{
  "nbformat": 4,
  "nbformat_minor": 0,
  "metadata": {
    "colab": {
      "name": "AML Project",
      "provenance": [],
      "collapsed_sections": []
    },
    "kernelspec": {
      "name": "python3",
      "display_name": "Python 3"
    },
    "language_info": {
      "name": "python"
    },
    "accelerator": "GPU"
  },
  "cells": [
    {
      "cell_type": "code",
      "metadata": {
        "id": "yk6Mygu48fN0",
        "outputId": "f1f98f99-c402-4d4c-e5a2-e4c851450042",
        "colab": {
          "base_uri": "https://localhost:8080/"
        }
      },
      "source": [
        "import pandas as pd\n",
        "import numpy as np\n",
        "import matplotlib.pyplot as plt\n",
        "from warnings import filterwarnings\n",
        "from mpl_toolkits.mplot3d import Axes3D\n",
        "import statsmodels.api as sm\n",
        "from sklearn.model_selection import ShuffleSplit, GridSearchCV\n",
        "from sklearn.metrics import mean_squared_error, r2_score\n",
        "from sklearn.metrics import confusion_matrix, accuracy_score, classification_report, roc_auc_score, roc_curve\n",
        "from tensorflow.keras.models import Sequential\n",
        "from tensorflow.keras.layers import Dense, Dropout, Flatten, Conv2D, MaxPool2D, BatchNormalization,MaxPooling2D\n",
        "from tensorflow.keras import models\n",
        "from tensorflow.keras import layers\n",
        "import tensorflow as tf\n",
        "import cv2\n",
        "import os.path\n",
        "from pathlib import Path\n",
        "from tensorflow.keras.preprocessing.image import ImageDataGenerator\n",
        "from keras.utils.np_utils import to_categorical \n",
        "from sklearn.preprocessing import LabelEncoder, StandardScaler\n",
        "from sklearn.model_selection import train_test_split, cross_val_score, cross_val_predict"
      ],
      "execution_count": null,
      "outputs": [
        {
          "output_type": "stream",
          "name": "stderr",
          "text": [
            "/usr/local/lib/python3.7/dist-packages/statsmodels/tools/_testing.py:19: FutureWarning: pandas.util.testing is deprecated. Use the functions in the public API at pandas.testing instead.\n",
            "  import pandas.util.testing as tm\n"
          ]
        }
      ]
    },
    {
      "cell_type": "markdown",
      "source": [
        "CNN"
      ],
      "metadata": {
        "id": "SoWF3ThaF7tU"
      }
    },
    {
      "cell_type": "code",
      "metadata": {
        "colab": {
          "base_uri": "https://localhost:8080/",
          "height": 329
        },
        "id": "UlHAFX-B9e4D",
        "outputId": "aaed72dd-39fe-4f66-d6ab-a0df3d67fc89"
      },
      "source": [
        "from google.colab import drive\n",
        "drive.mount('/content/gdrive')"
      ],
      "execution_count": null,
      "outputs": [
        {
          "output_type": "error",
          "ename": "MessageError",
          "evalue": "ignored",
          "traceback": [
            "\u001b[0;31m---------------------------------------------------------------------------\u001b[0m",
            "\u001b[0;31mMessageError\u001b[0m                              Traceback (most recent call last)",
            "\u001b[0;32m<ipython-input-2-4996ee3d8d09>\u001b[0m in \u001b[0;36m<module>\u001b[0;34m()\u001b[0m\n\u001b[1;32m      1\u001b[0m \u001b[0;32mfrom\u001b[0m \u001b[0mgoogle\u001b[0m\u001b[0;34m.\u001b[0m\u001b[0mcolab\u001b[0m \u001b[0;32mimport\u001b[0m \u001b[0mdrive\u001b[0m\u001b[0;34m\u001b[0m\u001b[0;34m\u001b[0m\u001b[0m\n\u001b[0;32m----> 2\u001b[0;31m \u001b[0mdrive\u001b[0m\u001b[0;34m.\u001b[0m\u001b[0mmount\u001b[0m\u001b[0;34m(\u001b[0m\u001b[0;34m'/content/gdrive'\u001b[0m\u001b[0;34m)\u001b[0m\u001b[0;34m\u001b[0m\u001b[0;34m\u001b[0m\u001b[0m\n\u001b[0m",
            "\u001b[0;32m/usr/local/lib/python3.7/dist-packages/google/colab/drive.py\u001b[0m in \u001b[0;36mmount\u001b[0;34m(mountpoint, force_remount, timeout_ms, use_metadata_server)\u001b[0m\n\u001b[1;32m    111\u001b[0m       \u001b[0mtimeout_ms\u001b[0m\u001b[0;34m=\u001b[0m\u001b[0mtimeout_ms\u001b[0m\u001b[0;34m,\u001b[0m\u001b[0;34m\u001b[0m\u001b[0;34m\u001b[0m\u001b[0m\n\u001b[1;32m    112\u001b[0m       \u001b[0muse_metadata_server\u001b[0m\u001b[0;34m=\u001b[0m\u001b[0muse_metadata_server\u001b[0m\u001b[0;34m,\u001b[0m\u001b[0;34m\u001b[0m\u001b[0;34m\u001b[0m\u001b[0m\n\u001b[0;32m--> 113\u001b[0;31m       ephemeral=ephemeral)\n\u001b[0m\u001b[1;32m    114\u001b[0m \u001b[0;34m\u001b[0m\u001b[0m\n\u001b[1;32m    115\u001b[0m \u001b[0;34m\u001b[0m\u001b[0m\n",
            "\u001b[0;32m/usr/local/lib/python3.7/dist-packages/google/colab/drive.py\u001b[0m in \u001b[0;36m_mount\u001b[0;34m(mountpoint, force_remount, timeout_ms, use_metadata_server, ephemeral)\u001b[0m\n\u001b[1;32m    134\u001b[0m   \u001b[0;32mif\u001b[0m \u001b[0mephemeral\u001b[0m\u001b[0;34m:\u001b[0m\u001b[0;34m\u001b[0m\u001b[0;34m\u001b[0m\u001b[0m\n\u001b[1;32m    135\u001b[0m     _message.blocking_request(\n\u001b[0;32m--> 136\u001b[0;31m         'request_auth', request={'authType': 'dfs_ephemeral'}, timeout_sec=None)\n\u001b[0m\u001b[1;32m    137\u001b[0m \u001b[0;34m\u001b[0m\u001b[0m\n\u001b[1;32m    138\u001b[0m   \u001b[0mmountpoint\u001b[0m \u001b[0;34m=\u001b[0m \u001b[0m_os\u001b[0m\u001b[0;34m.\u001b[0m\u001b[0mpath\u001b[0m\u001b[0;34m.\u001b[0m\u001b[0mexpanduser\u001b[0m\u001b[0;34m(\u001b[0m\u001b[0mmountpoint\u001b[0m\u001b[0;34m)\u001b[0m\u001b[0;34m\u001b[0m\u001b[0;34m\u001b[0m\u001b[0m\n",
            "\u001b[0;32m/usr/local/lib/python3.7/dist-packages/google/colab/_message.py\u001b[0m in \u001b[0;36mblocking_request\u001b[0;34m(request_type, request, timeout_sec, parent)\u001b[0m\n\u001b[1;32m    173\u001b[0m   request_id = send_request(\n\u001b[1;32m    174\u001b[0m       request_type, request, parent=parent, expect_reply=True)\n\u001b[0;32m--> 175\u001b[0;31m   \u001b[0;32mreturn\u001b[0m \u001b[0mread_reply_from_input\u001b[0m\u001b[0;34m(\u001b[0m\u001b[0mrequest_id\u001b[0m\u001b[0;34m,\u001b[0m \u001b[0mtimeout_sec\u001b[0m\u001b[0;34m)\u001b[0m\u001b[0;34m\u001b[0m\u001b[0;34m\u001b[0m\u001b[0m\n\u001b[0m",
            "\u001b[0;32m/usr/local/lib/python3.7/dist-packages/google/colab/_message.py\u001b[0m in \u001b[0;36mread_reply_from_input\u001b[0;34m(message_id, timeout_sec)\u001b[0m\n\u001b[1;32m    104\u001b[0m         reply.get('colab_msg_id') == message_id):\n\u001b[1;32m    105\u001b[0m       \u001b[0;32mif\u001b[0m \u001b[0;34m'error'\u001b[0m \u001b[0;32min\u001b[0m \u001b[0mreply\u001b[0m\u001b[0;34m:\u001b[0m\u001b[0;34m\u001b[0m\u001b[0;34m\u001b[0m\u001b[0m\n\u001b[0;32m--> 106\u001b[0;31m         \u001b[0;32mraise\u001b[0m \u001b[0mMessageError\u001b[0m\u001b[0;34m(\u001b[0m\u001b[0mreply\u001b[0m\u001b[0;34m[\u001b[0m\u001b[0;34m'error'\u001b[0m\u001b[0;34m]\u001b[0m\u001b[0;34m)\u001b[0m\u001b[0;34m\u001b[0m\u001b[0;34m\u001b[0m\u001b[0m\n\u001b[0m\u001b[1;32m    107\u001b[0m       \u001b[0;32mreturn\u001b[0m \u001b[0mreply\u001b[0m\u001b[0;34m.\u001b[0m\u001b[0mget\u001b[0m\u001b[0;34m(\u001b[0m\u001b[0;34m'data'\u001b[0m\u001b[0;34m,\u001b[0m \u001b[0;32mNone\u001b[0m\u001b[0;34m)\u001b[0m\u001b[0;34m\u001b[0m\u001b[0;34m\u001b[0m\u001b[0m\n\u001b[1;32m    108\u001b[0m \u001b[0;34m\u001b[0m\u001b[0m\n",
            "\u001b[0;31mMessageError\u001b[0m: Error: credential propagation was unsuccessful"
          ]
        }
      ]
    },
    {
      "cell_type": "code",
      "metadata": {
        "id": "vfNJrWPz_ReC"
      },
      "source": [
        "dataTrain = Path(\"../content/gdrive/My Drive/Colab Notebooks/dataset/training_set\")\n",
        "filepath = list(dataTrain.glob(r\"**/*.jpg\"))\n",
        "labels = list(map(lambda x: os.path.split(os.path.split(x)[0])[1], filepath))"
      ],
      "execution_count": null,
      "outputs": []
    },
    {
      "cell_type": "code",
      "metadata": {
        "id": "vVY8CddSGd2n"
      },
      "source": [
        "filepath = pd.Series(filepath, name='Filepath').astype(str)\n",
        "labels = pd.Series(labels,name=\"Labels\")"
      ],
      "execution_count": null,
      "outputs": []
    },
    {
      "cell_type": "code",
      "metadata": {
        "id": "jWigUrhdGEE9"
      },
      "source": [
        "# Read the images and store it to ListA\n",
        "ListA = []\n",
        "for i in filepath:\n",
        "    image = cv2.imread(i,0)\n",
        "    ListA.append(np.array(image,\"uint8\"))"
      ],
      "execution_count": null,
      "outputs": []
    },
    {
      "cell_type": "code",
      "metadata": {
        "id": "R3AAVuI3Go0D"
      },
      "source": [
        "ListA = pd.Series(ListA,name=\"Array\") # Vectorized image\n",
        "MainData = pd.concat([ListA,labels],axis=1) # Construct main data and copy it\n",
        "data = MainData.copy() # to protect main data\n",
        "print(data[\"Labels\"].value_counts())"
      ],
      "execution_count": null,
      "outputs": []
    },
    {
      "cell_type": "code",
      "metadata": {
        "id": "f5JAYSHIHIiu"
      },
      "source": [
        "figure = plt.figure(figsize=(15,8))\n",
        "plt.imshow(data[\"Array\"][10])"
      ],
      "execution_count": null,
      "outputs": []
    },
    {
      "cell_type": "code",
      "metadata": {
        "id": "oi7X_lURHkSw"
      },
      "source": [
        "print(data.head())"
      ],
      "execution_count": null,
      "outputs": []
    },
    {
      "cell_type": "code",
      "metadata": {
        "id": "kLSO5rjwHupT"
      },
      "source": [
        "data['Array'].iloc[0].shape"
      ],
      "execution_count": null,
      "outputs": []
    },
    {
      "cell_type": "code",
      "metadata": {
        "id": "CR8bOZ7KHwcf"
      },
      "source": [
        "SecondData = pd.concat([filepath,labels],axis=1)\n",
        "x = SecondData[\"Filepath\"]\n",
        "y = SecondData[\"Labels\"]\n",
        "\n",
        "# Encode categorized variables, similar to Getdummy\n",
        "encode = LabelEncoder() \n",
        "x = encode.fit_transform(x)\n",
        "y = encode.fit_transform(y)\n",
        "SecondData = pd.concat([filepath,labels],axis=1)\n",
        "\n",
        "# scale Xs\n",
        "x = x/max(x)\n",
        "\n",
        "# convert type to float and reshape x and y\n",
        "x = np.asarray(x).astype(\"float32\")\n",
        "x = x.reshape(len(x),1,1)\n",
        "y = np.asarray(y).astype(\"float32\")\n",
        "y = y.reshape((len(y)),1,1)\n"
      ],
      "execution_count": null,
      "outputs": []
    },
    {
      "cell_type": "code",
      "metadata": {
        "id": "x4qlRoZ4OAQ9"
      },
      "source": [
        "from google.colab.patches import cv2_imshow\n",
        "path = SecondData.iloc[0][0]\n",
        "image = cv2.imread(path)\n",
        "cv2_imshow(image)"
      ],
      "execution_count": null,
      "outputs": []
    },
    {
      "cell_type": "code",
      "metadata": {
        "id": "IP1tPrD2Vwbu"
      },
      "source": [
        "x = SecondData[\"Filepath\"]\n",
        "y = SecondData[\"Labels\"]\n",
        "encode = LabelEncoder()\n",
        "x = encode.fit_transform(x)\n",
        "y = encode.fit_transform(y)"
      ],
      "execution_count": null,
      "outputs": []
    },
    {
      "cell_type": "code",
      "metadata": {
        "id": "HlZY_0ACTyQI"
      },
      "source": [
        "x"
      ],
      "execution_count": null,
      "outputs": []
    },
    {
      "cell_type": "code",
      "metadata": {
        "id": "us6CElYnV9Qn"
      },
      "source": [
        "y"
      ],
      "execution_count": null,
      "outputs": []
    },
    {
      "cell_type": "code",
      "metadata": {
        "id": "0YASB2nGV-Om"
      },
      "source": [
        "x = np.asarray(x).astype(\"float32\")\n",
        "x = x.reshape(126,1,1)\n",
        "\n",
        "y = np.asarray(y).astype(\"float32\")\n",
        "y = y.reshape(126,1,1)"
      ],
      "execution_count": null,
      "outputs": []
    },
    {
      "cell_type": "code",
      "metadata": {
        "id": "tvdHTMiPXej7"
      },
      "source": [
        "# xTrain,xTest,yTrain,yTest = train_test_split(x,y,test_size=0.1,random_state=42)\n",
        "# xTrain"
      ],
      "execution_count": null,
      "outputs": []
    },
    {
      "cell_type": "code",
      "metadata": {
        "id": "DLYgW4a0Xgua"
      },
      "source": [
        ""
      ],
      "execution_count": null,
      "outputs": []
    },
    {
      "cell_type": "markdown",
      "source": [
        "## ANN Implementation"
      ],
      "metadata": {
        "id": "uwecHR17InY4"
      }
    },
    {
      "cell_type": "markdown",
      "metadata": {
        "id": "53W0Os3iZ917"
      },
      "source": [
        "## CNN Implementation"
      ]
    },
    {
      "cell_type": "code",
      "metadata": {
        "id": "yZ_QGtB3aA-L"
      },
      "source": [
        "import keras\n",
        "from keras.preprocessing.image import ImageDataGenerator\n",
        "from keras.applications.inception_v3 import InceptionV3\n",
        "from keras.applications.inception_resnet_v2 import InceptionResNetV2\n",
        "from tensorflow.keras.optimizers import Adam\n",
        "from keras.models import Model\n",
        "from keras.layers import Activation\n",
        "from keras.layers.core import Dense, Flatten\n",
        "from keras.layers.core import Dropout\n",
        "from keras.metrics import categorical_crossentropy\n",
        "from keras.callbacks import ModelCheckpoint"
      ],
      "execution_count": null,
      "outputs": []
    },
    {
      "cell_type": "code",
      "metadata": {
        "id": "tb25wx3B_m2-"
      },
      "source": [
        "dataTrain = Path(\"../content/gdrive/My Drive/Colab Notebooks/dataset/training_set\")\n",
        "dataValidation = Path(\"../content/gdrive/My Drive/Colab Notebooks/dataset/validation_set\")\n",
        "# dataTest = Path(\"../content/gdrive/My Drive/Colab Notebooks/dataset/test_set\")\n",
        "filepath = list(dataTrain.glob(r\"**/*.jpg\"))\n",
        "labels = list(map(lambda x: os.path.split(os.path.split(x)[0])[1], filepath))\n",
        "\n",
        "selectedClasses = os.listdir(dataTrain)"
      ],
      "execution_count": null,
      "outputs": []
    },
    {
      "cell_type": "code",
      "metadata": {
        "id": "3mo3xlL2O7Cs"
      },
      "source": [
        "len(selectedClasses)"
      ],
      "execution_count": null,
      "outputs": []
    },
    {
      "cell_type": "code",
      "metadata": {
        "id": "yxYignJweaZC"
      },
      "source": [
        "train_datagen = ImageDataGenerator(#featurewise_center = True,\n",
        "                              rescale = 1./255,\n",
        "                              rotation_range = 20,\n",
        "                              fill_mode = 'nearest',\n",
        "                              shear_range = 0.2,\n",
        "                              zoom_range = 0.2,\n",
        "                              width_shift_range=0.2,\n",
        "                              height_shift_range=0.2,\n",
        "                              horizontal_flip=True,)\n",
        "                                        \n",
        "train_generator = train_datagen.flow_from_directory(\n",
        "        dataTrain,\n",
        "        target_size=(224, 224), \n",
        "        batch_size= 16,\n",
        "        #classes = selectedClasses,\n",
        "        shuffle=True,\n",
        "        class_mode='categorical')"
      ],
      "execution_count": null,
      "outputs": []
    },
    {
      "cell_type": "code",
      "metadata": {
        "id": "6O-Ppo5CejR9"
      },
      "source": [
        "val_generator = train_datagen.flow_from_directory(\n",
        "        dataValidation,\n",
        "        target_size=(224, 224), \n",
        "        batch_size= 16,\n",
        "        #classes = selectedClasses,\n",
        "        shuffle=True,\n",
        "        class_mode='categorical')\n",
        "\n",
        "validation_steps= val_generator.samples//64\n",
        "print(validation_steps)"
      ],
      "execution_count": null,
      "outputs": []
    },
    {
      "cell_type": "code",
      "metadata": {
        "id": "xqY86bI99blR"
      },
      "source": [
        "base_model = InceptionResNetV2(weights='imagenet',\n",
        "                         include_top=False,\n",
        "                        input_shape = (224,224,3))\n",
        "base_model.trainable = False\n",
        "x = base_model.output\n",
        "x = keras.layers.GlobalMaxPooling2D()(x)\n",
        "x = BatchNormalization()(x)\n",
        "x = Dense(50,activation='relu')(x)\n",
        "predictions = Dense(len(selectedClasses), activation='softmax')(x)\n",
        "\n",
        "model = Model(inputs=base_model.input, outputs=predictions)\n",
        "# model.summary()\n",
        "\n",
        "model.compile(optimizer = Adam(lr=0.001),loss='categorical_crossentropy', metrics=['accuracy'])\n",
        "filepath = \"weights-improvement-{epoch:02d}-{val_accuracy:.2f}.hdf5\"\n",
        "model_checkpoint = ModelCheckpoint(filepath, monitor='val_accuracy', verbose=1, save_best_only=True, mode='max')\n",
        "\n",
        "train_generator.reset()\n",
        "val_generator.reset()\n",
        "\n",
        "historyTM = model.fit(train_generator,\n",
        "                    validation_data=val_generator,\n",
        "                    steps_per_epoch = 9,\n",
        "                    validation_steps = 1,\n",
        "                    epochs = 30, \n",
        "                    verbose = 1\n",
        "                    callbacks = [model_checkpoint]\n",
        "                   ) \n",
        "\n"
      ],
      "execution_count": null,
      "outputs": []
    },
    {
      "cell_type": "code",
      "metadata": {
        "id": "Akqr-ajs9ibc"
      },
      "source": [
        "# Plot the learning curves\n",
        "acc = historyTM.history['accuracy']\n",
        "val_acc = historyTM.history['val_accuracy']\n",
        "\n",
        "loss = historyTM.history['loss']\n",
        "val_loss = historyTM.history['val_loss']\n",
        "\n",
        "plt.figure(figsize=(8, 8))\n",
        "plt.subplot(2, 1, 1)\n",
        "plt.plot(acc, label='Training Accuracy')\n",
        "plt.plot(val_acc, label='Validation Accuracy')\n",
        "plt.legend(loc='lower right')\n",
        "plt.ylabel('Accuracy')\n",
        "plt.ylim([min(plt.ylim()),1])\n",
        "plt.title('Training and Validation Accuracy')\n",
        "\n",
        "plt.subplot(2, 1, 2)\n",
        "plt.plot(loss, label='Training Loss')\n",
        "plt.plot(val_loss, label='Validation Loss')\n",
        "plt.legend(loc='lower right')\n",
        "plt.ylabel('Cross Entropy')\n",
        "plt.ylim([0,1.])\n",
        "plt.title('Training and Validation Loss')\n",
        "plt.xlabel('epoch')\n",
        "plt.show()"
      ],
      "execution_count": null,
      "outputs": []
    },
    {
      "cell_type": "code",
      "metadata": {
        "id": "zKhR3DnDOwpv"
      },
      "source": [
        "# # test_generator = train_datagen.flow_from_directory(\n",
        "# #         dataTest,\n",
        "# #         target_size=(224, 224), \n",
        "# #         batch_size= 16,\n",
        "# #         #classes = selectedClasses,\n",
        "# #         shuffle=True,\n",
        "# #         class_mode='categorical')\n",
        "# filepath = list(dataTest.glob(r\"**/*.jpg\"))\n",
        "# labels = list(map(lambda x: os.path.split(os.path.split(x)[0])[1], filepath))\n",
        "# for i in filepath:\n",
        "#   print(i)\n",
        "#   #predictions = np.argmax( model.predict(i),axis=1)\n",
        "#   model.predict(i)\n"
      ],
      "execution_count": null,
      "outputs": []
    },
    {
      "cell_type": "code",
      "metadata": {
        "id": "iRNCqR1vo0zB"
      },
      "source": [
        "# base_model.trainable = True\n",
        "# layers_to_freeze = 50\n",
        "# for i in base_model.layers[:layers_to_freeze]:\n",
        "#     i.trainable = False\n",
        "\n",
        "\n",
        "# model.compile(optimizer = Adam(learning_rate=0.001),loss='categorical_crossentropy', metrics=['accuracy'])\n",
        "# train_datagen.fit(train_generator)\n",
        "# fine_tunemodel = model.fit(train_generator,\n",
        "#                           epochs = 30,\n",
        "#                           initial_epoch = historyTM.epoch[-1],\n",
        "#                           validation_data = val_generator,\n",
        "#                           verbose = 1,\n",
        "#                           steps_per_epoch = 9,\n",
        "#                           validation_steps = 1)\n",
        "\n",
        "# model.evaluate(val_generator)"
      ],
      "execution_count": null,
      "outputs": []
    },
    {
      "cell_type": "code",
      "metadata": {
        "id": "UGz_KlYLNNNk"
      },
      "source": [
        "base_model.trainable = True\n",
        "layers_to_freeze = 50\n",
        "for i in base_model.layers[:layers_to_freeze]:\n",
        "    i.trainable = False\n",
        "    \n",
        "model.compile(optimizer = Adam(learning_rate=0.001),loss='categorical_crossentropy', metrics=['accuracy'])"
      ],
      "execution_count": null,
      "outputs": []
    },
    {
      "cell_type": "code",
      "metadata": {
        "id": "ve37Ac4cPfni"
      },
      "source": [
        "fine_tunemodel = model.fit(train_generator,\n",
        "                          epochs = 50,\n",
        "                          initial_epoch = 0,\n",
        "                          validation_data = val_generator,\n",
        "                          verbose = 1,\n",
        "                          steps_per_epoch = 9,\n",
        "                          validation_steps = 1)"
      ],
      "execution_count": null,
      "outputs": []
    },
    {
      "cell_type": "code",
      "metadata": {
        "id": "NqTpBlJYQX0w"
      },
      "source": [
        ""
      ],
      "execution_count": null,
      "outputs": []
    }
  ]
}