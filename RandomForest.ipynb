{
 "cells": [
  {
   "cell_type": "code",
   "execution_count": 1,
   "id": "682aefb7",
   "metadata": {},
   "outputs": [],
   "source": [
    "import pandas as pd\n",
    "import numpy as np\n",
    "from sklearn.ensemble import RandomForestClassifier\n",
    "from sklearn.metrics import accuracy_score\n",
    "from sklearn.model_selection import train_test_split"
   ]
  },
  {
   "cell_type": "code",
   "execution_count": 3,
   "id": "b3cf126c",
   "metadata": {},
   "outputs": [
    {
     "data": {
      "text/plain": [
       "((1533, 16), (1533, 7))"
      ]
     },
     "execution_count": 3,
     "metadata": {},
     "output_type": "execute_result"
    }
   ],
   "source": [
    "feat = pd.read_csv(\"Features.csv\")\n",
    "data = pd.read_excel('Labels.xlsx')\n",
    "data.shape, feat.shape"
   ]
  },
  {
   "cell_type": "code",
   "execution_count": 4,
   "id": "4d1a571e",
   "metadata": {},
   "outputs": [
    {
     "data": {
      "text/plain": [
       "Index(['Baseline', 'Letter Size', 'Line Spacing', 'Word Spacing', 'Top Margin',\n",
       "       'Pen Pressure', 'Slant of Letters', 'Emotional Stability',\n",
       "       'Mental Energy and Will Power', 'Modesty',\n",
       "       'Personal Harmony and Flexibility', 'Lack of Discipline',\n",
       "       'Poor Concentration', 'Non Communicativeness', 'Social Isolation',\n",
       "       'Image No'],\n",
       "      dtype='object')"
      ]
     },
     "execution_count": 4,
     "metadata": {},
     "output_type": "execute_result"
    }
   ],
   "source": [
    "data.columns"
   ]
  },
  {
   "cell_type": "code",
   "execution_count": 5,
   "id": "931a1a3b",
   "metadata": {},
   "outputs": [],
   "source": [
    "X = feat[['Baseline', 'Letter Size', 'Line Spacing', 'Word Spacing', 'Top Margin', 'Pen Pressure', 'Slant of Letters']]\n"
   ]
  },
  {
   "cell_type": "code",
   "execution_count": 6,
   "id": "53b1b772",
   "metadata": {},
   "outputs": [],
   "source": [
    "y_cols = data[['Emotional Stability',\n",
    "       'Mental Energy and Will Power', 'Modesty',\n",
    "       'Personal Harmony and Flexibility', 'Lack of Discipline',\n",
    "       'Poor Concentration', 'Non Communicativeness', 'Social Isolation']]"
   ]
  },
  {
   "cell_type": "code",
   "execution_count": 7,
   "id": "05648282",
   "metadata": {},
   "outputs": [
    {
     "data": {
      "text/html": [
       "<div>\n",
       "<style scoped>\n",
       "    .dataframe tbody tr th:only-of-type {\n",
       "        vertical-align: middle;\n",
       "    }\n",
       "\n",
       "    .dataframe tbody tr th {\n",
       "        vertical-align: top;\n",
       "    }\n",
       "\n",
       "    .dataframe thead th {\n",
       "        text-align: right;\n",
       "    }\n",
       "</style>\n",
       "<table border=\"1\" class=\"dataframe\">\n",
       "  <thead>\n",
       "    <tr style=\"text-align: right;\">\n",
       "      <th></th>\n",
       "      <th>Baseline</th>\n",
       "      <th>Letter Size</th>\n",
       "      <th>Line Spacing</th>\n",
       "      <th>Word Spacing</th>\n",
       "      <th>Top Margin</th>\n",
       "      <th>Pen Pressure</th>\n",
       "      <th>Slant of Letters</th>\n",
       "    </tr>\n",
       "  </thead>\n",
       "  <tbody>\n",
       "    <tr>\n",
       "      <th>0</th>\n",
       "      <td>-0.39</td>\n",
       "      <td>5.70</td>\n",
       "      <td>12.29</td>\n",
       "      <td>4.37</td>\n",
       "      <td>2.46</td>\n",
       "      <td>171.38</td>\n",
       "      <td>-15</td>\n",
       "    </tr>\n",
       "    <tr>\n",
       "      <th>1</th>\n",
       "      <td>0.05</td>\n",
       "      <td>3.07</td>\n",
       "      <td>17.29</td>\n",
       "      <td>2.89</td>\n",
       "      <td>1.74</td>\n",
       "      <td>194.71</td>\n",
       "      <td>-15</td>\n",
       "    </tr>\n",
       "    <tr>\n",
       "      <th>2</th>\n",
       "      <td>-1.10</td>\n",
       "      <td>2.02</td>\n",
       "      <td>16.36</td>\n",
       "      <td>3.14</td>\n",
       "      <td>1.65</td>\n",
       "      <td>170.29</td>\n",
       "      <td>-15</td>\n",
       "    </tr>\n",
       "    <tr>\n",
       "      <th>3</th>\n",
       "      <td>-0.01</td>\n",
       "      <td>1.91</td>\n",
       "      <td>15.73</td>\n",
       "      <td>3.32</td>\n",
       "      <td>1.60</td>\n",
       "      <td>165.56</td>\n",
       "      <td>180</td>\n",
       "    </tr>\n",
       "    <tr>\n",
       "      <th>4</th>\n",
       "      <td>0.00</td>\n",
       "      <td>2.10</td>\n",
       "      <td>15.70</td>\n",
       "      <td>3.25</td>\n",
       "      <td>1.69</td>\n",
       "      <td>171.55</td>\n",
       "      <td>-15</td>\n",
       "    </tr>\n",
       "    <tr>\n",
       "      <th>...</th>\n",
       "      <td>...</td>\n",
       "      <td>...</td>\n",
       "      <td>...</td>\n",
       "      <td>...</td>\n",
       "      <td>...</td>\n",
       "      <td>...</td>\n",
       "      <td>...</td>\n",
       "    </tr>\n",
       "    <tr>\n",
       "      <th>1528</th>\n",
       "      <td>0.21</td>\n",
       "      <td>2.13</td>\n",
       "      <td>12.18</td>\n",
       "      <td>4.81</td>\n",
       "      <td>1.66</td>\n",
       "      <td>151.69</td>\n",
       "      <td>0</td>\n",
       "    </tr>\n",
       "    <tr>\n",
       "      <th>1529</th>\n",
       "      <td>0.21</td>\n",
       "      <td>2.47</td>\n",
       "      <td>12.55</td>\n",
       "      <td>4.59</td>\n",
       "      <td>1.45</td>\n",
       "      <td>148.78</td>\n",
       "      <td>180</td>\n",
       "    </tr>\n",
       "    <tr>\n",
       "      <th>1530</th>\n",
       "      <td>-0.02</td>\n",
       "      <td>3.95</td>\n",
       "      <td>12.40</td>\n",
       "      <td>4.70</td>\n",
       "      <td>1.59</td>\n",
       "      <td>148.31</td>\n",
       "      <td>180</td>\n",
       "    </tr>\n",
       "    <tr>\n",
       "      <th>1531</th>\n",
       "      <td>0.41</td>\n",
       "      <td>4.07</td>\n",
       "      <td>12.30</td>\n",
       "      <td>4.59</td>\n",
       "      <td>1.38</td>\n",
       "      <td>153.32</td>\n",
       "      <td>0</td>\n",
       "    </tr>\n",
       "    <tr>\n",
       "      <th>1532</th>\n",
       "      <td>-0.44</td>\n",
       "      <td>0.21</td>\n",
       "      <td>23.91</td>\n",
       "      <td>2.05</td>\n",
       "      <td>1.39</td>\n",
       "      <td>161.12</td>\n",
       "      <td>15</td>\n",
       "    </tr>\n",
       "  </tbody>\n",
       "</table>\n",
       "<p>1533 rows × 7 columns</p>\n",
       "</div>"
      ],
      "text/plain": [
       "      Baseline  Letter Size  Line Spacing  Word Spacing  Top Margin  \\\n",
       "0        -0.39         5.70         12.29          4.37        2.46   \n",
       "1         0.05         3.07         17.29          2.89        1.74   \n",
       "2        -1.10         2.02         16.36          3.14        1.65   \n",
       "3        -0.01         1.91         15.73          3.32        1.60   \n",
       "4         0.00         2.10         15.70          3.25        1.69   \n",
       "...        ...          ...           ...           ...         ...   \n",
       "1528      0.21         2.13         12.18          4.81        1.66   \n",
       "1529      0.21         2.47         12.55          4.59        1.45   \n",
       "1530     -0.02         3.95         12.40          4.70        1.59   \n",
       "1531      0.41         4.07         12.30          4.59        1.38   \n",
       "1532     -0.44         0.21         23.91          2.05        1.39   \n",
       "\n",
       "      Pen Pressure  Slant of Letters  \n",
       "0           171.38               -15  \n",
       "1           194.71               -15  \n",
       "2           170.29               -15  \n",
       "3           165.56               180  \n",
       "4           171.55               -15  \n",
       "...            ...               ...  \n",
       "1528        151.69                 0  \n",
       "1529        148.78               180  \n",
       "1530        148.31               180  \n",
       "1531        153.32                 0  \n",
       "1532        161.12                15  \n",
       "\n",
       "[1533 rows x 7 columns]"
      ]
     },
     "execution_count": 7,
     "metadata": {},
     "output_type": "execute_result"
    }
   ],
   "source": [
    "X"
   ]
  },
  {
   "cell_type": "code",
   "execution_count": 8,
   "id": "d6954137",
   "metadata": {
    "scrolled": true
   },
   "outputs": [
    {
     "name": "stdout",
     "output_type": "stream",
     "text": [
      "Emotional Stability\n",
      "Accuracy score for  0.996742671009772\n",
      "Feature Importance[0.53723937 0.02057098 0.02076818 0.01791399 0.02185592 0.02366551\n",
      " 0.35798605]\n",
      "----------------------------------------\n",
      "Mental Energy and Will Power\n",
      "Accuracy score for  1.0\n",
      "Feature Importance[0.02433474 0.04417044 0.24813378 0.17977016 0.04330592 0.44051604\n",
      " 0.01976891]\n",
      "----------------------------------------\n",
      "Modesty\n",
      "Accuracy score for  0.993485342019544\n",
      "Feature Importance[0.01056982 0.78830954 0.0838893  0.06876473 0.02353931 0.01474742\n",
      " 0.01017987]\n",
      "----------------------------------------\n",
      "Personal Harmony and Flexibility\n",
      "Accuracy score for  1.0\n",
      "Feature Importance[0.01555316 0.03672835 0.17945257 0.24568549 0.49011194 0.0229319\n",
      " 0.00953658]\n",
      "----------------------------------------\n",
      "Lack of Discipline\n",
      "Accuracy score for  1.0\n",
      "Feature Importance[0.03918023 0.35461723 0.0490214  0.04253491 0.03650469 0.04762542\n",
      " 0.43051612]\n",
      "----------------------------------------\n",
      "Poor Concentration\n",
      "Accuracy score for  0.996742671009772\n",
      "Feature Importance[0.01379361 0.01304262 0.32002833 0.56429951 0.07160273 0.01312482\n",
      " 0.00410838]\n",
      "----------------------------------------\n",
      "Non Communicativeness\n",
      "Accuracy score for  0.996742671009772\n",
      "Feature Importance[0.01757972 0.06042551 0.21564992 0.20478387 0.44285556 0.03520713\n",
      " 0.02349828]\n",
      "----------------------------------------\n",
      "Social Isolation\n",
      "Accuracy score for  1.0\n",
      "Feature Importance[0.00746456 0.05043087 0.33110722 0.43839424 0.15091502 0.01535802\n",
      " 0.00633006]\n",
      "----------------------------------------\n"
     ]
    }
   ],
   "source": [
    "y_dict = {}\n",
    "for i, k in enumerate(['Emotional Stability',\n",
    "       'Mental Energy and Will Power', 'Modesty',\n",
    "       'Personal Harmony and Flexibility', 'Lack of Discipline',\n",
    "       'Poor Concentration', 'Non Communicativeness', 'Social Isolation']):\n",
    "    print(k)\n",
    "    y = y_cols[k]\n",
    "    X_train, X_test, y_train, y_test = train_test_split(X, y, test_size=0.2)\n",
    "    \n",
    "    rf = RandomForestClassifier()\n",
    "    rf.fit(X=X_train, y=y_train)\n",
    "    y_pred = rf.predict(X_test)\n",
    "    print(\"Accuracy score for \", end = \" \")\n",
    "    print(accuracy_score(y_true=y_test, y_pred=y_pred))\n",
    "    print(\"Feature Importance\", end = \"\")\n",
    "    print(rf.feature_importances_)\n",
    "    print(\"----------------------------------------\")"
   ]
  },
  {
   "cell_type": "markdown",
   "id": "792338b5",
   "metadata": {},
   "source": [
    "# Hyper-paramter tuning"
   ]
  },
  {
   "cell_type": "code",
   "execution_count": 35,
   "id": "d3cf99a3",
   "metadata": {},
   "outputs": [
    {
     "name": "stdout",
     "output_type": "stream",
     "text": [
      "{'n_estimators': [50, 62, 75, 87, 100], 'max_features': ['auto', 'sqrt'], 'max_depth': [10, 20, 30, 40, 50], 'min_samples_split': [2], 'ccp_alpha': [0.2, 0.3, 0.4, 0.5, 0.6, 0.7, 0.8, 0.9]}\n"
     ]
    }
   ],
   "source": [
    "from sklearn.model_selection import RandomizedSearchCV# Number of trees in random forest\n",
    "n_estimators = [int(x) for x in np.linspace(start = 50, stop = 100, num = 5)]\n",
    "# Number of features to consider at every split\n",
    "max_features = ['auto', 'sqrt']\n",
    "# Maximum number of levels in tree\n",
    "max_depth = [int(x) for x in np.linspace(10, 50, num = 5)]\n",
    "# Minimum number of samples required to split a node\n",
    "min_samples_split = [2]\n",
    "# Minimum number of samples required at each leaf node\n",
    "min_samples_leaf = [x/10 for x in range(2, 10)]\n",
    "# Method of selecting samples for training each tree\n",
    "#bootstrap = [True]# Create the random grid\n",
    "random_grid = {'n_estimators': n_estimators,\n",
    "               'max_features': max_features,\n",
    "               'max_depth': max_depth,\n",
    "               'min_samples_split': min_samples_split,\n",
    "               'ccp_alpha': min_samples_leaf}\n",
    "print(random_grid)"
   ]
  },
  {
   "cell_type": "code",
   "execution_count": 36,
   "id": "fea2a1fd",
   "metadata": {},
   "outputs": [
    {
     "name": "stdout",
     "output_type": "stream",
     "text": [
      "Fitting 5 folds for each of 10 candidates, totalling 50 fits\n"
     ]
    },
    {
     "data": {
      "text/plain": [
       "RandomizedSearchCV(cv=5, estimator=RandomForestClassifier(), n_jobs=-1,\n",
       "                   param_distributions={'ccp_alpha': [0.2, 0.3, 0.4, 0.5, 0.6,\n",
       "                                                      0.7, 0.8, 0.9],\n",
       "                                        'max_depth': [10, 20, 30, 40, 50],\n",
       "                                        'max_features': ['auto', 'sqrt'],\n",
       "                                        'min_samples_split': [2],\n",
       "                                        'n_estimators': [50, 62, 75, 87, 100]},\n",
       "                   random_state=42, verbose=2)"
      ]
     },
     "execution_count": 36,
     "metadata": {},
     "output_type": "execute_result"
    }
   ],
   "source": [
    "# Use the random grid to search for best hyperparameters\n",
    "# First create the base model to tune\n",
    "rf = RandomForestClassifier()\n",
    "# Random search of parameters, using 3 fold cross validation, \n",
    "# search across 100 different combinations, and use all available cores\n",
    "rf_random = RandomizedSearchCV(estimator = rf, param_distributions = random_grid, cv = 5, verbose=2, random_state=42, n_jobs = -1)# Fit the random search model\n",
    "rf_random.fit(X_train, y_train)"
   ]
  },
  {
   "cell_type": "code",
   "execution_count": 37,
   "id": "870c3744",
   "metadata": {},
   "outputs": [
    {
     "data": {
      "text/plain": [
       "0.9706840390879479"
      ]
     },
     "execution_count": 37,
     "metadata": {},
     "output_type": "execute_result"
    }
   ],
   "source": [
    "y_pred = rf_random.predict(X_test)\n",
    "rf_random.score(X_test,y_test)"
   ]
  },
  {
   "cell_type": "code",
   "execution_count": null,
   "id": "ad079c77",
   "metadata": {},
   "outputs": [],
   "source": [
    "grid_best_params = {}\n",
    "for i, k in enumerate(['Emotional Stability',\n",
    "       'Mental Energy and Will Power', 'Modesty',\n",
    "       'Personal Harmony and Flexibility', 'Lack of Discipline',\n",
    "       'Poor Concentration', 'Non Communicativeness', 'Social Isolation']):\n",
    "    print(k)\n",
    "    y = y_cols[k]\n",
    "    X_train, X_test, y_train, y_test = train_test_split(X, y, test_size=0.2, random_state=42)\n",
    "    \n",
    "    rf_random = RandomizedSearchCV(estimator = rf, param_distributions = random_grid, n_iter = 10, cv = 3, verbose=2, random_state=42, n_jobs = -1)# Fit the random search model\n",
    "    rf_random.fit(X_train, y_train)\n",
    "    \n",
    "    print(rf_random.best_params_)\n",
    "    grid_best_params[k] = rf_random.best_params_\n",
    "    \n",
    "    print(\"----------------------------------------\")"
   ]
  },
  {
   "cell_type": "code",
   "execution_count": 12,
   "id": "2a526580",
   "metadata": {},
   "outputs": [],
   "source": [
    "grid_best_params = {'Emotional Stability': {'n_estimators': 200,\n",
    "  'min_samples_split': 10,\n",
    "  'min_samples_leaf': 2,\n",
    "  'max_features': 'sqrt',\n",
    "  'max_depth': 50,\n",
    "  'bootstrap': True},\n",
    " 'Mental Energy and Will Power': {'n_estimators': 400,\n",
    "  'min_samples_split': 10,\n",
    "  'min_samples_leaf': 1,\n",
    "  'max_features': 'sqrt',\n",
    "  'max_depth': 60,\n",
    "  'bootstrap': False},\n",
    " 'Modesty': {'n_estimators': 600,\n",
    "  'min_samples_split': 2,\n",
    "  'min_samples_leaf': 2,\n",
    "  'max_features': 'auto',\n",
    "  'max_depth': 60,\n",
    "  'bootstrap': False},\n",
    " 'Personal Harmony and Flexibility': {'n_estimators': 600,\n",
    "  'min_samples_split': 2,\n",
    "  'min_samples_leaf': 2,\n",
    "  'max_features': 'auto',\n",
    "  'max_depth': 60,\n",
    "  'bootstrap': False},\n",
    " 'Lack of Discipline': {'n_estimators': 400,\n",
    "  'min_samples_split': 10,\n",
    "  'min_samples_leaf': 1,\n",
    "  'max_features': 'sqrt',\n",
    "  'max_depth': 60,\n",
    "  'bootstrap': False},\n",
    " 'Poor Concentration': {'n_estimators': 200,\n",
    "  'min_samples_split': 10,\n",
    "  'min_samples_leaf': 2,\n",
    "  'max_features': 'sqrt',\n",
    "  'max_depth': 50,\n",
    "  'bootstrap': True},\n",
    " 'Non Communicativeness': {'n_estimators': 200,\n",
    "  'min_samples_split': 10,\n",
    "  'min_samples_leaf': 2,\n",
    "  'max_features': 'sqrt',\n",
    "  'max_depth': 50,\n",
    "  'bootstrap': True},\n",
    " 'Social Isolation': {'n_estimators': 600,\n",
    "  'min_samples_split': 2,\n",
    "  'min_samples_leaf': 2,\n",
    "  'max_features': 'auto',\n",
    "  'max_depth': 60,\n",
    "  'bootstrap': False}}"
   ]
  },
  {
   "cell_type": "code",
   "execution_count": 13,
   "id": "63c41074",
   "metadata": {
    "scrolled": true
   },
   "outputs": [
    {
     "name": "stdout",
     "output_type": "stream",
     "text": [
      "Emotional Stability\n",
      "{'n_estimators': 200, 'min_samples_split': 10, 'min_samples_leaf': 2, 'max_features': 'sqrt', 'max_depth': 50, 'bootstrap': True}\n",
      "1.0\n",
      "----------------------------------------\n",
      "Mental Energy and Will Power\n",
      "{'n_estimators': 400, 'min_samples_split': 10, 'min_samples_leaf': 1, 'max_features': 'sqrt', 'max_depth': 60, 'bootstrap': False}\n",
      "1.0\n",
      "----------------------------------------\n",
      "Modesty\n",
      "{'n_estimators': 600, 'min_samples_split': 2, 'min_samples_leaf': 2, 'max_features': 'auto', 'max_depth': 60, 'bootstrap': False}\n",
      "0.993485342019544\n",
      "----------------------------------------\n",
      "Personal Harmony and Flexibility\n",
      "{'n_estimators': 600, 'min_samples_split': 2, 'min_samples_leaf': 2, 'max_features': 'auto', 'max_depth': 60, 'bootstrap': False}\n",
      "1.0\n",
      "----------------------------------------\n",
      "Lack of Discipline\n",
      "{'n_estimators': 400, 'min_samples_split': 10, 'min_samples_leaf': 1, 'max_features': 'sqrt', 'max_depth': 60, 'bootstrap': False}\n",
      "1.0\n",
      "----------------------------------------\n",
      "Poor Concentration\n",
      "{'n_estimators': 200, 'min_samples_split': 10, 'min_samples_leaf': 2, 'max_features': 'sqrt', 'max_depth': 50, 'bootstrap': True}\n",
      "1.0\n",
      "----------------------------------------\n",
      "Non Communicativeness\n",
      "{'n_estimators': 200, 'min_samples_split': 10, 'min_samples_leaf': 2, 'max_features': 'sqrt', 'max_depth': 50, 'bootstrap': True}\n",
      "1.0\n",
      "----------------------------------------\n",
      "Social Isolation\n",
      "{'n_estimators': 600, 'min_samples_split': 2, 'min_samples_leaf': 2, 'max_features': 'auto', 'max_depth': 60, 'bootstrap': False}\n",
      "1.0\n",
      "----------------------------------------\n"
     ]
    }
   ],
   "source": [
    "for i, k in enumerate(['Emotional Stability',\n",
    "       'Mental Energy and Will Power', 'Modesty',\n",
    "       'Personal Harmony and Flexibility', 'Lack of Discipline',\n",
    "       'Poor Concentration', 'Non Communicativeness', 'Social Isolation']):\n",
    "    print(k)\n",
    "    y = y_cols[k]\n",
    "    X_train, X_test, y_train, y_test = train_test_split(X, y, test_size=0.2, random_state=42)\n",
    "    \n",
    "    print(grid_best_params[k])\n",
    "    rf_random = RandomForestClassifier(n_estimators =grid_best_params[k]['n_estimators'],\n",
    "                                      min_samples_split  = grid_best_params[k]['min_samples_split'],\n",
    "                                      min_samples_leaf = grid_best_params[k]['min_samples_leaf'],\n",
    "                                      max_features = grid_best_params[k]['max_features'],\n",
    "                                      max_depth = grid_best_params[k]['max_depth'],\n",
    "                                      bootstrap = grid_best_params[k]['bootstrap'])\n",
    "#     rf_random = RandomizedSearchCV(estimator = rf, param_distributions = random_grid, n_iter = 10, cv = 3, verbose=2, random_state=42, n_jobs = -1)# Fit the random search model\n",
    "    rf_random.fit(X_train, y_train)\n",
    "    y_pred = rf_random.predict(X_test)\n",
    "    \n",
    "    print(accuracy_score(y_true=y_test, y_pred=y_pred))\n",
    "    print(\"----------------------------------------\")"
   ]
  },
  {
   "cell_type": "code",
   "execution_count": null,
   "id": "fe35a2e1",
   "metadata": {},
   "outputs": [],
   "source": [
    "grid_best_params"
   ]
  },
  {
   "cell_type": "code",
   "execution_count": 42,
   "id": "427bef7f",
   "metadata": {},
   "outputs": [],
   "source": [
    "from sklearn.metrics import confusion_matrix, recall_score, precision_score"
   ]
  },
  {
   "cell_type": "code",
   "execution_count": 47,
   "id": "08052f00",
   "metadata": {},
   "outputs": [
    {
     "data": {
      "text/plain": [
       "array([1, 1, 0, 0, 1, 0, 0, 0, 1, 1, 1, 0, 0, 0, 0, 0, 0, 1, 1, 0, 0, 0,\n",
       "       0, 0, 1, 0, 0, 1, 1, 0, 0, 1, 0, 0, 0, 0, 0, 1, 1, 0, 1, 1, 1, 1,\n",
       "       1, 1, 1, 0, 0, 1, 0, 0, 0, 0, 0, 1, 1, 1, 0, 0, 0, 0, 0, 1, 1, 1,\n",
       "       0, 1, 1, 1, 1, 1, 0, 0, 1, 0, 0, 0, 0, 1, 0, 0, 1, 0, 0, 1, 1, 1,\n",
       "       1, 0, 1, 0, 1, 1, 1, 0, 0, 1, 1, 1, 1, 0, 1, 1, 0, 1, 0, 0, 1, 1,\n",
       "       1, 0, 1, 0, 0, 0, 0, 0, 1, 0, 1, 1, 0, 0, 0, 0, 1, 0, 1, 0, 1, 0,\n",
       "       1, 1, 1, 1, 0, 0, 0, 1, 0, 0, 1, 0, 0, 0, 1, 0, 0, 0, 1, 1, 1, 0,\n",
       "       1, 1, 0, 1, 1, 0, 0, 0, 0, 1, 0, 1, 0, 1, 0, 1, 1, 1, 1, 1, 0, 0,\n",
       "       0, 0, 0, 1, 1, 1, 0, 1, 0, 1, 1, 0, 1, 0, 1, 0, 0, 0, 0, 1, 0, 1,\n",
       "       1, 0, 0, 0, 0, 0, 1, 0, 0, 0, 1, 0, 0, 1, 0, 0, 0, 0, 0, 0, 0, 1,\n",
       "       0, 1, 1, 1, 1, 0, 0, 0, 1, 1, 0, 0, 0, 0, 0, 0, 1, 0, 0, 1, 1, 0,\n",
       "       1, 1, 1, 1, 1, 0, 1, 1, 0, 0, 1, 0, 1, 0, 0, 1, 1, 0, 0, 0, 0, 1,\n",
       "       0, 0, 1, 0, 0, 0, 1, 0, 1, 1, 0, 1, 0, 1, 1, 1, 1, 0, 0, 1, 0, 1,\n",
       "       0, 0, 0, 0, 0, 0, 0, 0, 0, 0, 0, 1, 0, 0, 1, 1, 0, 0, 0, 1, 0],\n",
       "      dtype=int64)"
      ]
     },
     "execution_count": 47,
     "metadata": {},
     "output_type": "execute_result"
    }
   ],
   "source": [
    "confusion_matrix(y_true = y_test, y_pred = y_pred)"
   ]
  },
  {
   "cell_type": "code",
   "execution_count": 44,
   "id": "ee60200b",
   "metadata": {},
   "outputs": [
    {
     "data": {
      "text/plain": [
       "0.9370629370629371"
      ]
     },
     "execution_count": 44,
     "metadata": {},
     "output_type": "execute_result"
    }
   ],
   "source": [
    "recall_score(y_true = y_test, y_pred = y_pred)"
   ]
  },
  {
   "cell_type": "code",
   "execution_count": 46,
   "id": "0db866b5",
   "metadata": {},
   "outputs": [
    {
     "data": {
      "text/plain": [
       "1.0"
      ]
     },
     "execution_count": 46,
     "metadata": {},
     "output_type": "execute_result"
    }
   ],
   "source": [
    "precision_score(y_true = y_test, y_pred = y_pred)"
   ]
  },
  {
   "cell_type": "code",
   "execution_count": null,
   "id": "c47a6d51",
   "metadata": {},
   "outputs": [],
   "source": []
  }
 ],
 "metadata": {
  "kernelspec": {
   "display_name": "Python 3",
   "language": "python",
   "name": "python3"
  },
  "language_info": {
   "codemirror_mode": {
    "name": "ipython",
    "version": 3
   },
   "file_extension": ".py",
   "mimetype": "text/x-python",
   "name": "python",
   "nbconvert_exporter": "python",
   "pygments_lexer": "ipython3",
   "version": "3.8.8"
  }
 },
 "nbformat": 4,
 "nbformat_minor": 5
}
